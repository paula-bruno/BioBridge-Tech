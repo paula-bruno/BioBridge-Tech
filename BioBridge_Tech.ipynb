{
  "nbformat": 4,
  "nbformat_minor": 0,
  "metadata": {
    "colab": {
      "provenance": []
    },
    "kernelspec": {
      "name": "python3",
      "display_name": "Python 3"
    },
    "language_info": {
      "name": "python"
    }
  },
  "cells": [
    {
      "cell_type": "code",
      "execution_count": 4,
      "metadata": {
        "colab": {
          "base_uri": "https://localhost:8080/"
        },
        "id": "eqAw8G0mljdX",
        "outputId": "229cc8d4-720c-448a-a499-a97ffd7a4ed9"
      },
      "outputs": [
        {
          "output_type": "stream",
          "name": "stdout",
          "text": [
            "Requirement already satisfied: requests in /usr/local/lib/python3.11/dist-packages (2.32.3)\n",
            "Requirement already satisfied: charset-normalizer<4,>=2 in /usr/local/lib/python3.11/dist-packages (from requests) (3.4.2)\n",
            "Requirement already satisfied: idna<4,>=2.5 in /usr/local/lib/python3.11/dist-packages (from requests) (3.10)\n",
            "Requirement already satisfied: urllib3<3,>=1.21.1 in /usr/local/lib/python3.11/dist-packages (from requests) (2.4.0)\n",
            "Requirement already satisfied: certifi>=2017.4.17 in /usr/local/lib/python3.11/dist-packages (from requests) (2025.4.26)\n",
            "API Key carregada dos Secrets do Colab.\n",
            "API Key configurada com sucesso!\n"
          ]
        }
      ],
      "source": [
        "# --- Passo 1.1: Instalar a biblioteca requests ---\n",
        "\n",
        "!pip install requests\n",
        "\n",
        "# --- Passo 1.2: Configurar a API Key do Google Gemini ---\n",
        "\n",
        "import os\n",
        "import requests # Importa a biblioteca requests\n",
        "import json # formatar os dados da requisição e resposta\n",
        "\n",
        "# Importa ferramentas do Colab para carregar secrets ou pedir input seguro\n",
        "from google.colab import userdata\n",
        "import getpass # Para input seguro se não usar secrets\n",
        "\n",
        "try:\n",
        "    API_KEY = userdata.get('GOOGLE_API_KEY')\n",
        "    print(\"API Key carregada dos Secrets do Colab.\")\n",
        "except userdata.NotInUserDatabaseError:\n",
        "\n",
        "    print(\"API Key não encontrada nos Secrets do Colab.\")\n",
        "    print(\"Por favor, cole sua API Key abaixo:\")\n",
        "    API_KEY = getpass.getpass(\"Digite sua API Key: \")\n",
        "\n",
        "if not API_KEY:\n",
        "    print(\"Erro: API Key não foi fornecida. Não é possível continuar.\")\n",
        "    # adicionar um 'raise SystemExit(1)' ou 'exit(1)' para parar a execução\n",
        "else:\n",
        "    print(\"API Key configurada com sucesso!\")"
      ]
    },
    {
      "cell_type": "code",
      "source": [
        "# --- Passo 2: Definir Endpoint da API e Headers ---\n",
        "\n",
        "API_BASE_URL = \"https://generativelanguage.googleapis.com/v1/models/gemini-1.5-flash:generateContent\"\n",
        "\n",
        "# Os cabeçalhos da requisição HTTP, incluindo a API Key\n",
        "HEADERS = {\n",
        "    \"Content-Type\": \"application/json\",\n",
        "    \"x-goog-api-key\": API_KEY\n",
        "}\n",
        "\n",
        "print(f\"Endpoint da API definido para: {API_BASE_URL}\")\n",
        "print(\"Headers da requisição configurados.\")"
      ],
      "metadata": {
        "colab": {
          "base_uri": "https://localhost:8080/"
        },
        "id": "fbLh2iI9mBeV",
        "outputId": "2e6bb0c7-0f17-4455-a4ba-b3fac755b65f"
      },
      "execution_count": 5,
      "outputs": [
        {
          "output_type": "stream",
          "name": "stdout",
          "text": [
            "Endpoint da API definido para: https://generativelanguage.googleapis.com/v1/models/gemini-1.5-flash:generateContent\n",
            "Headers da requisição configurados.\n"
          ]
        }
      ]
    },
    {
      "cell_type": "code",
      "source": [
        "# --- Passo 3: Definir o Prompt e a Estrutura da Requisição (JSON Payload) ---\n",
        "\n",
        "def build_request_payload(user_term):\n",
        "    \"\"\"\n",
        "    Monta o corpo da requisição HTTP em formato JSON para a API Gemini.\n",
        "\n",
        "    Args:\n",
        "        user_term (str): O termo de biologia que o usuário digitou.\n",
        "\n",
        "    Returns:\n",
        "        dict: O dicionário Python pronto para ser convertido em JSON.\n",
        "    \"\"\"\n",
        "    # O prompt que guia a IA\n",
        "    prompt_text = f\"\"\"\n",
        "    Você é um assistente especializado em Biologia, focado em explicar conceitos para profissionais da área de Tecnologia da Informação, Análise de Dados e Bioinformática que não possuem conhecimento prévio em Biologia. Sua missão é simplificar termos complexos.\n",
        "\n",
        "    Para o termo \"{user_term}\", faça o seguinte:\n",
        "    1. Forneça uma **explicação objetiva** do que é (gene, proteína, organismo, processo, etc.).\n",
        "    2. Crie uma **analogia simples** usando conceitos da área de TI, Programação ou Análise de Dados para ajudar a entender a função ou estrutura, quando nao for possivel realizar analogia com coisas cotidianas.\n",
        "        # >>> MUDE A PRÓXIMA LINHA <<<\n",
        "    3. Crie uma seção chamada \"**Mais informações detalhadas:**\" e nela gere 1 ou 2 exemplos de URLs (não precisam ser links ativos, apenas exemplos de formato) para bancos de dados científicos comuns (Ex: NCBI Gene, UniProt, etc.) onde a pessoa poderia pesquisar mais sobre \"{user_term}\". Use o nome do termo na URL de exemplo se apropriado para a base.\n",
        "\n",
        "    Formate sua resposta de forma clara, usando talvez tópicos para cada parte.\n",
        "\n",
        "    Termo a ser explicado: {user_term}\n",
        "    \"\"\"\n",
        "\n",
        "    # Estrutura do corpo da requisição JSON\n",
        "    # Consulte a documentação da API de generateContent para todos os parâmetros possíveis\n",
        "    payload = {\n",
        "        \"contents\": [\n",
        "            {\n",
        "                \"parts\": [\n",
        "                    {\n",
        "                        \"text\": prompt_text # prompt está no campo 'text'\n",
        "                    }\n",
        "                ]\n",
        "            }\n",
        "        ],\n",
        "        \"generationConfig\": {\n",
        "             \"temperature\": 0.7, # Controla a aleatoriedade (0.0 é mais determinístico)\n",
        "             \"maxOutputTokens\": 800 # Limita o tamanho da resposta para não gerar texto excessivo\n",
        "             # Pode adicionar outras configurações de segurança ou parada aqui se necessário\n",
        "        },\n",
        "        # Se estivéssemos usando Function Calling, a descrição da função iria aqui na seção 'tools'\n",
        "    }\n",
        "\n",
        "    return payload\n",
        "\n",
        "print(\"Função 'build_request_payload' definida.\")\n",
        "print(\"O prompt para a IA foi configurado com instruções para explicação, analogia TI e links de exemplo.\")"
      ],
      "metadata": {
        "colab": {
          "base_uri": "https://localhost:8080/"
        },
        "id": "0NCAfzxJmLfM",
        "outputId": "ffa0fd90-2fae-4355-a4d5-155e8972f363"
      },
      "execution_count": 6,
      "outputs": [
        {
          "output_type": "stream",
          "name": "stdout",
          "text": [
            "Função 'build_request_payload' definida.\n",
            "O prompt para a IA foi configurado com instruções para explicação, analogia TI e links de exemplo.\n"
          ]
        }
      ]
    },
    {
      "cell_type": "code",
      "source": [
        "# --- Passo 4: Função para Enviar Requisição e Processar Resposta ---\n",
        "\n",
        "def get_gemini_explanation(user_term, api_url, headers):\n",
        "    \"\"\"\n",
        "    Envia a requisição HTTP para a API Gemini e retorna o texto gerado.\n",
        "\n",
        "    Args:\n",
        "        user_term (str): O termo de biologia digitado pelo usuário.\n",
        "        api_url (str): A URL do endpoint da API Gemini.\n",
        "        headers (dict): Os cabeçalhos da requisição (incluindo a API Key).\n",
        "\n",
        "    Returns:\n",
        "        str: O texto da explicação gerado pela IA, ou uma mensagem de erro.\n",
        "    \"\"\"\n",
        "    # Monta o corpo da requisição usando a função definida na Célula 3\n",
        "    request_payload = build_request_payload(user_term)\n",
        "\n",
        "    try:\n",
        "        # Converte o dicionário Python para uma string JSON\n",
        "        json_payload = json.dumps(request_payload)\n",
        "\n",
        "        # Faz a requisição HTTP POST para a API\n",
        "        # O parâmetro json=request_payload faz a conversão para JSON automaticamente e define Content-Type\n",
        "        # Content-Type nos headers, então usar 'data' com json.dumps é mais explícito\n",
        "        # use requests.post(api_url, headers=headers, json=request_payload)\n",
        "        response = requests.post(api_url, headers=headers, data=json_payload) # data= espera uma string, então usamos json.dumps\n",
        "\n",
        "        # Verifica se a requisição foi bem-sucedida (código 2xx)\n",
        "        if response.status_code == 200:\n",
        "            # Converte a resposta JSON para um dicionário Python\n",
        "            response_data = response.json()\n",
        "\n",
        "            # Extrai o texto gerado pela IA\n",
        "            # A estrutura da resposta JSON é aninhada\n",
        "            # Verifica se a resposta contém candidatos e partes de texto\n",
        "            if (response_data and\n",
        "                'candidates' in response_data and\n",
        "                len(response_data['candidates']) > 0 and\n",
        "                'content' in response_data['candidates'][0] and\n",
        "                'parts' in response_data['candidates'][0]['content'] and\n",
        "                len(response_data['candidates'][0]['content']['parts']) > 0 and\n",
        "                'text' in response_data['candidates'][0]['content']['parts'][0]):\n",
        "\n",
        "                generated_text = response_data['candidates'][0]['content']['parts'][0]['text']\n",
        "                return generated_text\n",
        "            else:\n",
        "                # Caso a estrutura da resposta não seja a esperada ou esteja vazia\n",
        "                print(\"\\nAviso: Resposta da API não contém texto gerado no formato esperado.\")\n",
        "                print(\"Resposta completa da API:\")\n",
        "                print(json.dumps(response_data, indent=2)) # Imprime a resposta completa para depuração\n",
        "                return \"Erro: A IA não gerou uma resposta de texto válida.\"\n",
        "\n",
        "        else:\n",
        "            # Se a requisição HTTP não foi bem-sucedida (ex: 400, 401, 404, 500)\n",
        "            print(f\"\\nErro na requisição HTTP: Código de Status {response.status_code}\")\n",
        "            print(f\"Mensagem de erro da API: {response.text}\")\n",
        "            # Códigos comuns: 400 Bad Request (erro na sua requisição/prompt), 401 Unauthorized (API Key inválida), 403 Forbidden (acesso negado), 500 Erro interno da API\n",
        "            if response.status_code == 401 or response.status_code == 403:\n",
        "                 return \"Erro: Problema de autenticação com a API Key. Verifique se está correta e ativa.\"\n",
        "            else:\n",
        "                 return f\"Erro na API: {response.status_code} - {response.text}\"\n",
        "\n",
        "    except requests.exceptions.RequestException as e:\n",
        "        # Trata erros na comunicação, como problemas de conexão\n",
        "        print(f\"\\nErro de conexão ou requisição: {e}\")\n",
        "        return f\"Erro de conexão: Não foi possível se comunicar com a API. Detalhes: {e}\"\n",
        "    except Exception as e:\n",
        "        # Trata outros erros inesperados\n",
        "        print(f\"\\nOcorreu um erro inesperado: {e}\")\n",
        "        return f\"Erro inesperado: {e}\"\n",
        "\n",
        "\n",
        "print(\"Função 'get_gemini_explanation' definida.\")"
      ],
      "metadata": {
        "colab": {
          "base_uri": "https://localhost:8080/"
        },
        "id": "SAJmZhjEsNt2",
        "outputId": "e55afec4-ad68-497b-d011-da84a932c156"
      },
      "execution_count": 7,
      "outputs": [
        {
          "output_type": "stream",
          "name": "stdout",
          "text": [
            "Função 'get_gemini_explanation' definida.\n"
          ]
        }
      ]
    },
    {
      "cell_type": "code",
      "source": [
        "# --- Passo 5: Loop de Interação com o Usuário ---\n",
        "print(\"\\n--- Bem vindo ao BioBridge Tech, a ponte entre Biologia e Bioinformatas ---\")\n",
        "print()\n",
        "print(\"Você digita o termo de biologia que tem dúvida (gene, proteína, organismo, etc.) e recebe uma explicação objetiva e com analogia de fácil, compreensão, sugestões de análise e link para informações completas.\")\n",
        "print()\n",
        "print(\"Para encerrar a consulta digite 'sair'.\")\n",
        "\n",
        "# Certifica-se que a API_KEY foi configurada na Célula 1 antes de rodar este loop\n",
        "if not API_KEY:\n",
        "    print(\"\\nAPI Key não configurada. Por favor, execute a Célula 1.\")\n",
        "else:\n",
        "    while True:\n",
        "        user_term = input(\"\\n Explique o que é: \")\n",
        "        if user_term.lower() == 'sair':\n",
        "            break\n",
        "\n",
        "        if not user_term.strip(): # Verifica se o input não está vazio\n",
        "            print(\"Por favor, digite um termo válido.\")\n",
        "            continue\n",
        "        print()\n",
        "        print(\"-------------------------------\")\n",
        "\n",
        "        print(f\"Buscando explicação para '{user_term}'...\")\n",
        "        print()\n",
        "\n",
        "        # Chama a função que interage com a API\n",
        "        explanation = get_gemini_explanation(user_term, API_BASE_URL, HEADERS)\n",
        "\n",
        "        # Exibe a resposta (seja a explicação da IA ou uma mensagem de erro)\n",
        "        print(\"\\n--- Resposta do Assistente IA ---\")\n",
        "        print()\n",
        "        print(explanation)\n",
        "        print(\"-------------------------------\")\n",
        "\n",
        "print(\"\\n Consulta encerrada.\")"
      ],
      "metadata": {
        "collapsed": true,
        "id": "nO65zy5kmWQb"
      },
      "execution_count": null,
      "outputs": []
    }
  ]
}